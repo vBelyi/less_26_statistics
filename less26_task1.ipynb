{
 "cells": [
  {
   "cell_type": "markdown",
   "id": "9a4422d2",
   "metadata": {},
   "source": [
    "## Оцінити ймовірність того, що телевізорів, які витримають гарантійний термін роботи, буде в межах [85;95]"
   ]
  },
  {
   "cell_type": "code",
   "execution_count": 4,
   "id": "e24e6a80",
   "metadata": {},
   "outputs": [],
   "source": [
    "import math"
   ]
  },
  {
   "cell_type": "code",
   "execution_count": 5,
   "id": "c6ae4b2a",
   "metadata": {},
   "outputs": [
    {
     "data": {
      "text/plain": [
       "0.9363983902254399"
      ]
     },
     "execution_count": 5,
     "metadata": {},
     "output_type": "execute_result"
    }
   ],
   "source": [
    "p = 0.9 #ймовірність того, що телевізор витримає гарантійний термін\n",
    "n = 100 #кількість телевізорів\n",
    "\n",
    "# обчислюємо суму ймовірностей для k від 85 до 95 включно.\n",
    "probability = 0\n",
    "for k in range(85, 96):\n",
    "    C_nk = math.factorial(n) / (math.factorial(k) * math.factorial(n-k))\n",
    "    probability += C_nk * p**k * (1-p)**(n-k)\n",
    "probability"
   ]
  }
 ],
 "metadata": {
  "kernelspec": {
   "display_name": "Python 3 (ipykernel)",
   "language": "python",
   "name": "python3"
  },
  "language_info": {
   "codemirror_mode": {
    "name": "ipython",
    "version": 3
   },
   "file_extension": ".py",
   "mimetype": "text/x-python",
   "name": "python",
   "nbconvert_exporter": "python",
   "pygments_lexer": "ipython3",
   "version": "3.9.13"
  }
 },
 "nbformat": 4,
 "nbformat_minor": 5
}
